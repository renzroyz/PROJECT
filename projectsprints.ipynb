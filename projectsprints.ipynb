{
  "nbformat": 4,
  "nbformat_minor": 0,
  "metadata": {
    "colab": {
      "name": "projectsprint.ipynb",
      "provenance": [],
      "collapsed_sections": []
    },
    "kernelspec": {
      "name": "python3",
      "display_name": "Python 3"
    },
    "language_info": {
      "name": "python"
    }
  },
  "cells": [
    {
      "cell_type": "code",
      "metadata": {
        "colab": {
          "base_uri": "https://localhost:8080/"
        },
        "id": "MGeBgPAPqk9s",
        "outputId": "b02dc6ae-8943-4027-fcdf-3f8fc61e71ed"
      },
      "source": [
        "from datetime import datetime\n",
        "# Input project start date.\n",
        "date1_enter = input('Enter a date (eg. 2021-09-01)')\n",
        "year1, month1, day1 = map(int, date1_enter.split('-'))\n",
        "date1 = datetime(year1, month1, day1)\n",
        "# input middle of project execution.\n",
        "date2_enter = input('Enter a date (eg. 2021-09-30)')\n",
        "year2, month2, day2 = map(int, date2_enter.split('-'))\n",
        "date2 = datetime(year2, month2, day2)\n",
        "import datetime\n",
        "diff = ((date2-date1).days)\n",
        "s=1\n",
        "# Finding sprint number and Days left in sprint.\n",
        "if (diff >=14):\n",
        "  while(diff >=14):\n",
        "    date1 = date1 + datetime.timedelta(days=14)\n",
        "    diff = (date2 - date1).days\n",
        "    s=s+1\n",
        "  if(diff<10):\n",
        "    dls=10-diff-1\n",
        "  else:\n",
        "    dls=0\n",
        "  print(\"Sprint number :\",s)\n",
        "  print(\"Days left in sprint :\",dls)\n",
        "else:\n",
        "  if(diff<10):\n",
        "    dls=10-diff-1\n",
        "  else:\n",
        "    dls=0\n",
        "  print(\"Sprint number :\",s)\n",
        "  print(\"Days left in sprint :\",dls)\n",
        "\n",
        "\n",
        "\n",
        "# Finding the Week\n",
        "import calendar\n",
        "week=calendar.day_name[date2.weekday()]\n",
        "if(week=='Sunday')|(week=='Saturday'):\n",
        "  print(\"Weekend\")\n",
        "else:\n",
        "  print(\"Week :\",week)\n"
      ],
      "execution_count": 81,
      "outputs": [
        {
          "output_type": "stream",
          "name": "stdout",
          "text": [
            "Enter a date (eg. 2021-09-01)2021-09-01\n",
            "Enter a date (eg. 2021-09-30)2021-09-30\n",
            "Sprint number : 3\n",
            "Days left in sprint : 8\n",
            "Week : Thursday\n"
          ]
        }
      ]
    },
    {
      "cell_type": "code",
      "metadata": {
        "id": "uhhtj8uLzkLT"
      },
      "source": [
        ""
      ],
      "execution_count": null,
      "outputs": []
    },
    {
      "cell_type": "code",
      "metadata": {
        "id": "VFCdeCEbrEVt"
      },
      "source": [
        ""
      ],
      "execution_count": null,
      "outputs": []
    }
  ]
}